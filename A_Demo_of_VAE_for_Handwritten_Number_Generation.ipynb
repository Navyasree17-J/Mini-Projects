{
  "nbformat": 4,
  "nbformat_minor": 0,
  "metadata": {
    "colab": {
      "provenance": [],
      "authorship_tag": "ABX9TyMzX4A+6B8lHMsaMGUtz5Av",
      "include_colab_link": true
    },
    "kernelspec": {
      "name": "python3",
      "display_name": "Python 3"
    },
    "language_info": {
      "name": "python"
    }
  },
  "cells": [
    {
      "cell_type": "markdown",
      "metadata": {
        "id": "view-in-github",
        "colab_type": "text"
      },
      "source": [
        "<a href=\"https://colab.research.google.com/github/Navyasree17-J/Mini-Projects/blob/main/A_Demo_of_VAE_for_Handwritten_Number_Generation.ipynb\" target=\"_parent\"><img src=\"https://colab.research.google.com/assets/colab-badge.svg\" alt=\"Open In Colab\"/></a>"
      ]
    },
    {
      "cell_type": "code",
      "execution_count": 1,
      "metadata": {
        "colab": {
          "base_uri": "https://localhost:8080/"
        },
        "id": "qPB9Smxh57W7",
        "outputId": "8fa3e77f-5495-4c4b-e4c4-693a99de4967"
      },
      "outputs": [
        {
          "output_type": "stream",
          "name": "stdout",
          "text": [
            "python3: can't open file '/content/train_VAE.py': [Errno 2] No such file or directory\n"
          ]
        }
      ],
      "source": [
        "!python train_VAE.py #skip this if the model has been trained before"
      ]
    },
    {
      "cell_type": "code",
      "source": [
        "import torch\n",
        "from matplotlib import pyplot as plt\n",
        "from matplotlib import cm\n",
        "from model import VAE"
      ],
      "metadata": {
        "colab": {
          "base_uri": "https://localhost:8080/",
          "height": 349
        },
        "id": "s-SBZtyn6al1",
        "outputId": "4b7c10fb-80cb-44cf-f083-ad43221bf007"
      },
      "execution_count": 2,
      "outputs": [
        {
          "output_type": "error",
          "ename": "ModuleNotFoundError",
          "evalue": "No module named 'model'",
          "traceback": [
            "\u001b[0;31m---------------------------------------------------------------------------\u001b[0m",
            "\u001b[0;31mModuleNotFoundError\u001b[0m                       Traceback (most recent call last)",
            "\u001b[0;32m<ipython-input-2-bb0dfb881f6d>\u001b[0m in \u001b[0;36m<cell line: 0>\u001b[0;34m()\u001b[0m\n\u001b[1;32m      2\u001b[0m \u001b[0;32mfrom\u001b[0m \u001b[0mmatplotlib\u001b[0m \u001b[0;32mimport\u001b[0m \u001b[0mpyplot\u001b[0m \u001b[0;32mas\u001b[0m \u001b[0mplt\u001b[0m\u001b[0;34m\u001b[0m\u001b[0;34m\u001b[0m\u001b[0m\n\u001b[1;32m      3\u001b[0m \u001b[0;32mfrom\u001b[0m \u001b[0mmatplotlib\u001b[0m \u001b[0;32mimport\u001b[0m \u001b[0mcm\u001b[0m\u001b[0;34m\u001b[0m\u001b[0;34m\u001b[0m\u001b[0m\n\u001b[0;32m----> 4\u001b[0;31m \u001b[0;32mfrom\u001b[0m \u001b[0mmodel\u001b[0m \u001b[0;32mimport\u001b[0m \u001b[0mVAE\u001b[0m\u001b[0;34m\u001b[0m\u001b[0;34m\u001b[0m\u001b[0m\n\u001b[0m",
            "\u001b[0;31mModuleNotFoundError\u001b[0m: No module named 'model'",
            "",
            "\u001b[0;31m---------------------------------------------------------------------------\u001b[0;32m\nNOTE: If your import is failing due to a missing package, you can\nmanually install dependencies using either !pip or !apt.\n\nTo view examples of installing some common dependencies, click the\n\"Open Examples\" button below.\n\u001b[0;31m---------------------------------------------------------------------------\u001b[0m\n"
          ],
          "errorDetails": {
            "actions": [
              {
                "action": "open_url",
                "actionText": "Open Examples",
                "url": "/notebooks/snippets/importing_libraries.ipynb"
              }
            ]
          }
        }
      ]
    },
    {
      "cell_type": "code",
      "source": [
        "device = torch.device('cuda' if torch.cuda.is_available() else 'cpu')\n",
        "\n",
        "net = VAE((1, 28, 28), nhid = 4)\n",
        "checkpoint = torch.load(\"VAE.pt\", map_location = device)\n",
        "net.load_state_dict(checkpoint[\"net\"])\n",
        "net.to(device)\n",
        "net.eval()"
      ],
      "metadata": {
        "id": "m0MWTuy16Ron"
      },
      "execution_count": null,
      "outputs": []
    },
    {
      "cell_type": "code",
      "source": [
        "with torch.no_grad():\n",
        "    x = net.generate()\n",
        "plt.imshow(x.squeeze(0).cpu().numpy(), cm.gray)"
      ],
      "metadata": {
        "id": "HSc9OIKh6R-c"
      },
      "execution_count": null,
      "outputs": []
    },
    {
      "cell_type": "code",
      "source": [
        "with torch.no_grad():\n",
        "    x = net.generate(batch_size=15)\n",
        "\n",
        "print(\"fake images\")\n",
        "for i in range(15):\n",
        "    plt.subplot(3, 5, i+1)\n",
        "    plt.axis(\"off\")\n",
        "    plt.imshow(x[i].squeeze(0).cpu().numpy(), cm.gray)"
      ],
      "metadata": {
        "id": "_s5NVKNn6nEn"
      },
      "execution_count": null,
      "outputs": []
    },
    {
      "cell_type": "code",
      "source": [
        "import torchvision\n",
        "train_data = torchvision.datasets.MNIST(root='../../Datasets', train=True, download=True, transform=torchvision.transforms.ToTensor())\n",
        "print(\"real images\")\n",
        "for i in range(15):\n",
        "    plt.subplot(3, 5, i+1)\n",
        "    plt.axis(\"off\")\n",
        "    plt.imshow(train_data[i][0].squeeze(0).cpu().numpy(), cm.gray)"
      ],
      "metadata": {
        "id": "-Lv325dE6nVF"
      },
      "execution_count": null,
      "outputs": []
    },
    {
      "cell_type": "code",
      "source": [
        "!python train_cVAE.py #skip this if the model has been trained before"
      ],
      "metadata": {
        "id": "KRbRosjY6ucq"
      },
      "execution_count": null,
      "outputs": []
    },
    {
      "cell_type": "code",
      "source": [
        "from model import cVAE"
      ],
      "metadata": {
        "id": "e1Jll4qV6zaf"
      },
      "execution_count": null,
      "outputs": []
    },
    {
      "cell_type": "code",
      "source": [
        "device = torch.device('cuda' if torch.cuda.is_available() else 'cpu')\n",
        "\n",
        "net = cVAE((1, 28, 28), nclass = 10, nhid = 2, ncond = 16)\n",
        "checkpoint = torch.load(\"cVAE.pt\", map_location = device)\n",
        "net.load_state_dict(checkpoint[\"net\"])\n",
        "net.to(device)\n",
        "net.eval()"
      ],
      "metadata": {
        "id": "SuYAf3yA6znL"
      },
      "execution_count": null,
      "outputs": []
    },
    {
      "cell_type": "code",
      "source": [
        "number = 4"
      ],
      "metadata": {
        "id": "IQ2f5RgC7TM6"
      },
      "execution_count": null,
      "outputs": []
    },
    {
      "cell_type": "code",
      "source": [
        "with torch.no_grad():\n",
        "    x = net.generate(number)\n",
        "plt.imshow(x.squeeze(0).cpu().numpy(), cm.gray)"
      ],
      "metadata": {
        "id": "IpCRfPWz7TUK"
      },
      "execution_count": null,
      "outputs": []
    },
    {
      "cell_type": "code",
      "source": [
        "with torch.no_grad():\n",
        "    x = net.generate(torch.tensor([list(range(10))] * 5).clone().view(-1))\n",
        "\n",
        "for i in range(50):\n",
        "    plt.subplot(5, 10, i+1)\n",
        "    plt.axis(\"off\")\n",
        "    plt.imshow(x[i].squeeze(0).cpu().numpy(), cm.gray)"
      ],
      "metadata": {
        "id": "Irorv7vM7cHu"
      },
      "execution_count": null,
      "outputs": []
    }
  ]
}